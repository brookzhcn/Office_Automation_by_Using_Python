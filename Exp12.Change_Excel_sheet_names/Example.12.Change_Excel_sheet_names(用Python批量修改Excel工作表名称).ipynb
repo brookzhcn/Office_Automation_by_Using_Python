{
 "cells": [
  {
   "cell_type": "markdown",
   "metadata": {},
   "source": [
    "# 实例12：用Python批量修改Excel工作表名称"
   ]
  },
  {
   "cell_type": "markdown",
   "metadata": {},
   "source": [
    "我们在实例9里面批量生成了95张每日出货清单，每日的清单的工作表名是按日期命名的，例如“3-1”。不知是何原因，老板看后居然要求全部改为类似于“3.1”这样。是不是感觉脑中“嗡”地一下，顿时濒临崩溃。怎么办？只得默默在心里狠狠“问候”老板若干遍，然后继续干啊。一个一个地手动改，实在是要命。但有了Python，小菜一碟，上菜啦..."
   ]
  },
  {
   "cell_type": "code",
   "execution_count": 1,
   "metadata": {
    "scrolled": true
   },
   "outputs": [],
   "source": [
    "from openpyxl import load_workbook\n",
    "wb = load_workbook(\"data/出货单.xlsx\") #打开工作簿\n",
    "sheet_names=wb.sheetnames #获得工作簿的所有工作表名\n",
    "for sheet_name in sheet_names: #遍历每个工作表，并在每个工作表的A1单元格插入图片\n",
    "    ws=wb[sheet_name]\n",
    "    ws.title=sheet_name.replace(\"-\",\".\")\n",
    "wb.save('data/出货单1.xlsx')"
   ]
  },
  {
   "cell_type": "markdown",
   "metadata": {},
   "source": [
    "我们通过遍历“出货单.xlsx”文件中的所有工作表，然后每个工作表都在A1单元格插入我们设定好的图片，最后保存。待程序执行完成，打开保存的文件“出货单—new.xlsx”"
   ]
  },
  {
   "cell_type": "code",
   "execution_count": 2,
   "metadata": {},
   "outputs": [],
   "source": [
    "from openpyxl.drawing.image import Image\n",
    "from openpyxl import load_workbook\n",
    "\n",
    "wb = load_workbook(\"data/出货单.xlsx\")\n",
    "sheet_names=wb.sheetnames\n",
    "i=1\n",
    "for sheet_name in sheet_names:\n",
    "    img = Image(f'images/company{i}.png')\n",
    "    i=i\n",
    "    # wb = load_workbook(\"data/出货单.xlsx\")\n",
    "    ws=wb[sheet_name]\n",
    "    ws['A1'] =  'logo'\n",
    "    ws.add_image(img, 'A1')\n",
    "    # wb.save('data/出货单.xlsx')\n",
    "wb.save('data/出货单.xlsx')\n",
    "wb.close()"
   ]
  },
  {
   "cell_type": "code",
   "execution_count": null,
   "metadata": {},
   "outputs": [],
   "source": []
  }
 ],
 "metadata": {
  "kernelspec": {
   "display_name": "Python 3",
   "language": "python",
   "name": "python3"
  },
  "language_info": {
   "codemirror_mode": {
    "name": "ipython",
    "version": 3
   },
   "file_extension": ".py",
   "mimetype": "text/x-python",
   "name": "python",
   "nbconvert_exporter": "python",
   "pygments_lexer": "ipython3",
   "version": "3.9.2"
  }
 },
 "nbformat": 4,
 "nbformat_minor": 2
}
